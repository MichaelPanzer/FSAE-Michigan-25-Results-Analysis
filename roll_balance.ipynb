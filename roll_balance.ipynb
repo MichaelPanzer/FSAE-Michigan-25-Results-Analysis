{
 "cells": [
  {
   "cell_type": "markdown",
   "id": "e15084dd",
   "metadata": {},
   "source": [
    "<h1>Roll Balance and Chassis Equations\n",
    "\n",
    "\n",
    "Sources:\n",
    "RCVD..."
   ]
  },
  {
   "cell_type": "code",
   "execution_count": 1,
   "id": "851a7ff3",
   "metadata": {},
   "outputs": [],
   "source": [
    "import numpy as np\n",
    "import scipy as sp\n",
    "from matplotlib import pyplot as plt"
   ]
  },
  {
   "cell_type": "markdown",
   "id": "c0adc376",
   "metadata": {},
   "source": [
    "<h3>Initial Ride Rate Calculations</h3>\n",
    "\n",
    "Non ground effect Indy Cars ran 95-120cpm(1.58-2.0000Hz ) which seems like a good place to start - RCVD 16.2\n",
    "\n",
    "To insure initial understeer, calculate the Total Lateral\n",
    "Load Transfer Distribution (TLLTD) to be 5% more than\n",
    "the weight distribution at the front - RCVD table 16.5"
   ]
  },
  {
   "cell_type": "code",
   "execution_count": 2,
   "id": "f8bc3413",
   "metadata": {},
   "outputs": [
    {
     "name": "stdout",
     "output_type": "stream",
     "text": [
      "The ideal individual rear wheel ride rate for the target frequency is 15.63 N/mm; 89.27 lb/in\n",
      "\n",
      "The ideal individual front wheel ride rate for the target frequency is 10.42 N/mm; 59.51 lb/in\n",
      "The front natural frequency using the same spring rates as the rear is 2.45 hz\n"
     ]
    }
   ],
   "source": [
    "vehicle_mass = 250 + 80 #kg\n",
    "rear_mass_ratio = 0.6\n",
    "rear_mass = vehicle_mass*rear_mass_ratio\n",
    "front_mass = vehicle_mass*(1-rear_mass_ratio)\n",
    "\n",
    "def ride_rate(natural_frequency, mass):\n",
    "    return mass * natural_frequency**2\n",
    "\n",
    "\n",
    "target_frequency = 2.0 * 2*np.pi # rad/s\n",
    "rear_wheel_ride_rate = ride_rate(target_frequency, rear_mass/2)\n",
    "print(f'The ideal individual rear wheel ride rate for the target frequency is {rear_wheel_ride_rate*1e-3 :.2f} N/mm; {5.7101471627692*rear_wheel_ride_rate*1e-3 :.2f} lb/in\\n')\n",
    "\n",
    "\n",
    "\n",
    "front_wheel_ride_rate = ride_rate(target_frequency, front_mass/2)\n",
    "print(f'The ideal individual front wheel ride rate for the target frequency is {front_wheel_ride_rate*1e-3 :.2f} N/mm; {5.7101471627692*front_wheel_ride_rate*1e-3 :.2f} lb/in')\n",
    "\n",
    "\n",
    "front_natural_frequency = (rear_wheel_ride_rate/(front_mass/2))**(1/2)\n",
    "print(f'The front natural frequency using the same spring rates as the rear is {front_natural_frequency/(2*np.pi) :.2f} hz')\n"
   ]
  },
  {
   "cell_type": "markdown",
   "id": "6887a4cb",
   "metadata": {},
   "source": [
    "<h3>Instant Rear Roll Center Placement</h3> "
   ]
  },
  {
   "cell_type": "code",
   "execution_count": 3,
   "id": "93646cbd",
   "metadata": {},
   "outputs": [
    {
     "name": "stdout",
     "output_type": "stream",
     "text": [
      "The roll center height needed to meet target rear wheel travel in roll is 119.78 mm\n",
      "The front roll center height needed to give a roll axis inclination of 2 degrees is 66.35 mm\n",
      "\n",
      "The body roll angle at a lateral acceleration of 12.75 is 2.47 degrees\n",
      "The rear roll gradient from the chose parameters is 1.90 degrees/g\n"
     ]
    }
   ],
   "source": [
    "def roll_center_height(desired_wheel_deflection, track, wheel_rate, cg_height, axle_mass, lateral_acceleration):\n",
    "    return cg_height - desired_wheel_deflection*track*wheel_rate/(2*axle_mass*lateral_acceleration)\n",
    "\n",
    "total_wheel_travel = 35e-3 #m\n",
    "roll_travel_ratio = 0.8\n",
    "\n",
    "track_width = 1300e-3 #m\n",
    "wheelbase = 1530e-3 #m\n",
    "\n",
    "center_of_mass_height = 220*1e-3 + total_wheel_travel #m\n",
    "g = 9.81 #m/s^2\n",
    "maximum_lateral_acceleration = 1.3*g#m/s^2\n",
    "\n",
    "roll_axis_inclination = 2 #degrees\n",
    "\n",
    "roll_wheel_deflection = total_wheel_travel*(0.8)\n",
    "rear_roll_center_height = roll_center_height(roll_wheel_deflection, track_width, rear_wheel_ride_rate, center_of_mass_height, vehicle_mass/2, maximum_lateral_acceleration)\n",
    "print(f'The roll center height needed to meet target rear wheel travel in roll is {rear_roll_center_height*1e+3 :.2f} mm')\n",
    "\n",
    "\n",
    "\n",
    "front_roll_center_height = rear_roll_center_height - np.tan(np.radians(roll_axis_inclination))*wheelbase\n",
    "print(f'The front roll center height needed to give a roll axis inclination of {roll_axis_inclination} degrees is {front_roll_center_height*1e+3 :.2f} mm')\n",
    "\n",
    "\n",
    "maximum_body_roll_angle = np.degrees(np.atan(2*roll_wheel_deflection)/track_width)\n",
    "print(f'\\nThe body roll angle at a lateral acceleration of {maximum_lateral_acceleration :.2f} is {maximum_body_roll_angle :.2f} degrees')\n",
    "\n",
    "rear_roll_gradient = maximum_body_roll_angle / maximum_lateral_acceleration  * g\n",
    "print(f'The rear roll gradient from the chose parameters is {rear_roll_gradient :.2f} degrees/g')\n"
   ]
  },
  {
   "cell_type": "markdown",
   "id": "e3ebe5ea",
   "metadata": {},
   "source": [
    "<h2> Symbolically set up load transfer equations"
   ]
  },
  {
   "cell_type": "code",
   "execution_count": 4,
   "id": "79c2c24b",
   "metadata": {},
   "outputs": [
    {
     "name": "stdout",
     "output_type": "stream",
     "text": [
      "Moment Balance Equations:\n"
     ]
    },
    {
     "data": {
      "text/latex": [
       "$\\displaystyle M_{f} = - K_{ch} \\left(- \\phi_{1} + \\phi_{2}\\right) + K_{f} \\phi_{1}$"
      ],
      "text/plain": [
       "Eq(M_f, -K_ch*(-phi_1 + phi_2) + K_f*phi_1)"
      ]
     },
     "metadata": {},
     "output_type": "display_data"
    },
    {
     "data": {
      "text/latex": [
       "$\\displaystyle M_{r} = K_{ch} \\left(- \\phi_{1} + \\phi_{2}\\right) + K_{r} \\phi_{2}$"
      ],
      "text/plain": [
       "Eq(M_r, K_ch*(-phi_1 + phi_2) + K_r*phi_2)"
      ]
     },
     "metadata": {},
     "output_type": "display_data"
    },
    {
     "name": "stdout",
     "output_type": "stream",
     "text": [
      "\n",
      "Chassis Tuning Constant Equation:\n"
     ]
    },
    {
     "data": {
      "text/latex": [
       "$\\displaystyle \\frac{1}{κ} = \\frac{\\left(η + 1\\right) \\left(λ - 1\\right)}{\\left(η - 1\\right) \\left(λ + 1\\right)}$"
      ],
      "text/plain": [
       "Eq(1/κ, (η + 1)*(λ - 1)/((η - 1)*(λ + 1)))"
      ]
     },
     "metadata": {},
     "output_type": "display_data"
    },
    {
     "name": "stdout",
     "output_type": "stream",
     "text": [
      "\n",
      "Load Transfer Expressions:\n"
     ]
    },
    {
     "data": {
      "text/latex": [
       "$\\displaystyle \\frac{K_{f} \\left(K_{ch} M_{f} + K_{ch} M_{r} + K_{r} M_{f}\\right)}{T \\left(K_{ch} K_{f} + K_{ch} K_{r} + K_{f} K_{r}\\right)} = LT_{f}$"
      ],
      "text/plain": [
       "Eq(K_f*(K_ch*M_f + K_ch*M_r + K_r*M_f)/(T*(K_ch*K_f + K_ch*K_r + K_f*K_r)), LT_f)"
      ]
     },
     "metadata": {},
     "output_type": "display_data"
    },
    {
     "data": {
      "text/latex": [
       "$\\displaystyle \\frac{K_{r} \\left(K_{ch} M_{f} + K_{ch} M_{r} + K_{f} M_{r}\\right)}{T \\left(K_{ch} K_{f} + K_{ch} K_{r} + K_{f} K_{r}\\right)} = LT_{r}$"
      ],
      "text/plain": [
       "Eq(K_r*(K_ch*M_f + K_ch*M_r + K_f*M_r)/(T*(K_ch*K_f + K_ch*K_r + K_f*K_r)), LT_r)"
      ]
     },
     "metadata": {},
     "output_type": "display_data"
    },
    {
     "data": {
      "text/latex": [
       "$\\displaystyle \\frac{1}{κ} = \\frac{\\left(η + 1\\right) \\left(λ - 1\\right)}{\\left(η - 1\\right) \\left(λ + 1\\right)}$"
      ],
      "text/plain": [
       "Eq(1/κ, (η + 1)*(λ - 1)/((η - 1)*(λ + 1)))"
      ]
     },
     "metadata": {},
     "output_type": "display_data"
    },
    {
     "name": "stdout",
     "output_type": "stream",
     "text": [
      "\n",
      "Nondim Load Transfer Equations:\n"
     ]
    },
    {
     "data": {
      "text/latex": [
       "$\\displaystyle \\frac{a_{c} η ξ}{η + 1} = - \\frac{a_{c} m λ \\left(- K_{ch} γ \\left(H_{cg} - RCH_{r}\\right) + K_{ch} \\left(H_{cg} - RCH_{f}\\right) \\left(γ - 1\\right) + K_{r} \\left(H_{cg} - RCH_{f}\\right) \\left(γ - 1\\right)\\right)}{T \\left(K_{ch} λ + K_{ch} + K_{r} λ\\right)}$"
      ],
      "text/plain": [
       "Eq(a_c*η*ξ/(η + 1), -a_c*m*λ*(-K_ch*γ*(H_cg - RCH_r) + K_ch*(H_cg - RCH_f)*(γ - 1) + K_r*(H_cg - RCH_f)*(γ - 1))/(T*(K_ch*λ + K_ch + K_r*λ)))"
      ]
     },
     "metadata": {},
     "output_type": "display_data"
    },
    {
     "data": {
      "text/latex": [
       "$\\displaystyle \\frac{a_{c} ξ}{η + 1} = \\frac{a_{c} m \\left(K_{ch} γ \\left(H_{cg} - RCH_{r}\\right) - K_{ch} \\left(H_{cg} - RCH_{f}\\right) \\left(γ - 1\\right) + K_{r} γ λ \\left(H_{cg} - RCH_{r}\\right)\\right)}{T \\left(K_{ch} λ + K_{ch} + K_{r} λ\\right)}$"
      ],
      "text/plain": [
       "Eq(a_c*ξ/(η + 1), a_c*m*(K_ch*γ*(H_cg - RCH_r) - K_ch*(H_cg - RCH_f)*(γ - 1) + K_r*γ*λ*(H_cg - RCH_r))/(T*(K_ch*λ + K_ch + K_r*λ)))"
      ]
     },
     "metadata": {},
     "output_type": "display_data"
    },
    {
     "data": {
      "text/latex": [
       "$\\displaystyle \\frac{1}{κ} = \\frac{\\left(η + 1\\right) \\left(λ - 1\\right)}{\\left(η - 1\\right) \\left(λ + 1\\right)}$"
      ],
      "text/plain": [
       "Eq(1/κ, (η + 1)*(λ - 1)/((η - 1)*(λ + 1)))"
      ]
     },
     "metadata": {},
     "output_type": "display_data"
    }
   ],
   "source": [
    "import sympy\n",
    "total_load_transfer, load_transfer_front, load_transfer_rear, roll_stiffness_front, roll_stiffness_rear, chassis_stiffness, ac = sympy.symbols('LT LT_f LT_r K_f K_r K_ch a_c')\n",
    "track_symb, center_of_mass_height_symb, RCH_f_symb, RCH_r_symb, mass_symb, mass_front_symb, mass_rear_symb = sympy.symbols('T H_cg RCH_f RCH_r m m_f m_r')\n",
    "\n",
    "f_lt_ratio, f_roll_spring_ratio, r_mass_ratio, chassis_tuning_constant, lt_to_acceleration_ratio = sympy.symbols('η λ γ κ ξ')\n",
    "\n",
    "phi_1, phi_2, front_inertial_moment, rear_inertial_moment = sympy.symbols('phi_1 phi_2 M_f M_r')\n",
    "\n",
    "front_moment_balance = sympy.Eq(front_inertial_moment, roll_stiffness_front*phi_1 - chassis_stiffness*(phi_2-phi_1))\n",
    "rear_moment_balance = sympy.Eq(rear_inertial_moment, roll_stiffness_rear*phi_2 + chassis_stiffness*(phi_2-phi_1))\n",
    "\n",
    "print('Moment Balance Equations:')\n",
    "display(front_moment_balance)\n",
    "display(rear_moment_balance)\n",
    "\n",
    "chassis_tuning_eq = sympy.Eq(chassis_tuning_constant**-1, (f_roll_spring_ratio-1)*(f_lt_ratio+1)/((f_lt_ratio-1)*(f_roll_spring_ratio+1))) #This inverse doesnt match my notes but it seems to give better results\n",
    "print('\\nChassis Tuning Constant Equation:')\n",
    "display(chassis_tuning_eq)\n",
    "\n",
    "\n",
    "roll_angles = sympy.solve([front_moment_balance, rear_moment_balance], [phi_1, phi_2])\n",
    "load_transfer_equations = [sympy.Eq(roll_stiffness_front*roll_angles[phi_1]/track_symb, load_transfer_front), sympy.Eq(roll_stiffness_rear*roll_angles[phi_2]/track_symb, load_transfer_rear), chassis_tuning_eq]\n",
    "\n",
    "print('\\nLoad Transfer Expressions:')\n",
    "display(*load_transfer_equations)\n",
    "\n",
    "\n",
    "#total_load_transfer = 2*mass*ac*h/t\n",
    "\n",
    "vals = [(roll_stiffness_front, f_roll_spring_ratio*roll_stiffness_rear), \n",
    "        \n",
    "        (front_inertial_moment, mass_front_symb*ac*(center_of_mass_height_symb-RCH_f_symb)), \n",
    "        (rear_inertial_moment, mass_rear_symb*ac*(center_of_mass_height_symb-RCH_r_symb)), \n",
    "\n",
    "\n",
    "        (load_transfer_front, load_transfer_rear* f_lt_ratio), \n",
    "        (load_transfer_rear, total_load_transfer/(1+f_lt_ratio)),\n",
    "\n",
    "        (mass_front_symb, (1-r_mass_ratio)*mass_symb), \n",
    "        (mass_rear_symb, r_mass_ratio*mass_symb),\n",
    "\n",
    "        (total_load_transfer, lt_to_acceleration_ratio*ac)\n",
    "        ]\n",
    "\n",
    "nondim_equations = [expr.subs(vals).simplify() for expr in load_transfer_equations]\n",
    "\n",
    "print('\\nNondim Load Transfer Equations:')\n",
    "display(*nondim_equations)\n"
   ]
  },
  {
   "cell_type": "markdown",
   "id": "97ffdf5c",
   "metadata": {},
   "source": [
    "<h3> Front ARB and chassis stiffness </h3>"
   ]
  },
  {
   "cell_type": "code",
   "execution_count": 5,
   "id": "da1a11cc",
   "metadata": {},
   "outputs": [
    {
     "name": "stdout",
     "output_type": "stream",
     "text": [
      "The rear roll rate is 461.13 Nm/deg\n",
      "\n",
      "Expressions for substitution:\n"
     ]
    },
    {
     "data": {
      "text/latex": [
       "$\\displaystyle T = 1.3$"
      ],
      "text/plain": [
       "Eq(T, 1.3)"
      ]
     },
     "metadata": {},
     "output_type": "display_data"
    },
    {
     "data": {
      "text/latex": [
       "$\\displaystyle H_{cg} = 0.255$"
      ],
      "text/plain": [
       "Eq(H_cg, 0.255)"
      ]
     },
     "metadata": {},
     "output_type": "display_data"
    },
    {
     "data": {
      "text/latex": [
       "$\\displaystyle RCH_{f} = 0.0663546241550562$"
      ],
      "text/plain": [
       "Eq(RCH_f, 0.0663546241550562)"
      ]
     },
     "metadata": {},
     "output_type": "display_data"
    },
    {
     "data": {
      "text/latex": [
       "$\\displaystyle RCH_{r} = 0.11978340147743$"
      ],
      "text/plain": [
       "Eq(RCH_r, 0.11978340147743)"
      ]
     },
     "metadata": {},
     "output_type": "display_data"
    },
    {
     "data": {
      "text/latex": [
       "$\\displaystyle m = 330$"
      ],
      "text/plain": [
       "Eq(m, 330)"
      ]
     },
     "metadata": {},
     "output_type": "display_data"
    },
    {
     "data": {
      "text/latex": [
       "$\\displaystyle η = 1.05$"
      ],
      "text/plain": [
       "Eq(η, 1.05)"
      ]
     },
     "metadata": {},
     "output_type": "display_data"
    },
    {
     "data": {
      "text/latex": [
       "$\\displaystyle γ = 0.6$"
      ],
      "text/plain": [
       "Eq(γ, 0.6)"
      ]
     },
     "metadata": {},
     "output_type": "display_data"
    },
    {
     "data": {
      "text/latex": [
       "$\\displaystyle K_{r} = 13210.2680987701$"
      ],
      "text/plain": [
       "Eq(K_r, 13210.2680987701)"
      ]
     },
     "metadata": {},
     "output_type": "display_data"
    },
    {
     "data": {
      "text/latex": [
       "$\\displaystyle κ = 0.8$"
      ],
      "text/plain": [
       "Eq(κ, 0.8)"
      ]
     },
     "metadata": {},
     "output_type": "display_data"
    },
    {
     "name": "stdout",
     "output_type": "stream",
     "text": [
      "\n",
      "Final System of Equations:\n"
     ]
    },
    {
     "data": {
      "text/latex": [
       "$\\displaystyle 0.51219512195122 a_{c} ξ = \\frac{253.846153846154 a_{c} λ \\left(0.156588109451519 K_{ch} + 996.822396201982\\right)}{K_{ch} λ + K_{ch} + 13210.2680987701 λ}$"
      ],
      "text/plain": [
       "Eq(0.51219512195122*a_c*ξ, 253.846153846154*a_c*λ*(0.156588109451519*K_ch + 996.822396201982)/(K_ch*λ + K_ch + 13210.2680987701*λ))"
      ]
     },
     "metadata": {},
     "output_type": "display_data"
    },
    {
     "data": {
      "text/latex": [
       "$\\displaystyle 0.487804878048781 a_{c} ξ = \\frac{253.846153846154 a_{c} \\left(0.156588109451519 K_{ch} + 1071.74851073214 λ\\right)}{K_{ch} λ + K_{ch} + 13210.2680987701 λ}$"
      ],
      "text/plain": [
       "Eq(0.487804878048781*a_c*ξ, 253.846153846154*a_c*(0.156588109451519*K_ch + 1071.74851073214*λ)/(K_ch*λ + K_ch + 13210.2680987701*λ))"
      ]
     },
     "metadata": {},
     "output_type": "display_data"
    },
    {
     "data": {
      "text/latex": [
       "$\\displaystyle \\frac{41.0 \\left(λ - 1\\right)}{λ + 1} = 1.25$"
      ],
      "text/plain": [
       "Eq(41.0*(λ - 1)/(λ + 1), 1.25)"
      ]
     },
     "metadata": {},
     "output_type": "display_data"
    },
    {
     "name": "stdout",
     "output_type": "stream",
     "text": [
      "\n",
      "chassis_stiffness: 1180.87 Nm/deg        front spring roll stiffness ratio: 1.06        LT/ac: 39.75\n",
      "\n",
      "The front roll rate which give a front load transfer ratio of 1.05 is 490.13 Nm/deg\n",
      "The front ARB contributes 37.28% to the front roll stiffness\n"
     ]
    }
   ],
   "source": [
    "rear_spring_roll_stiffness = track_width**2 * rear_wheel_ride_rate / 2 \n",
    "print(f'The rear roll rate is {rear_spring_roll_stiffness*2*np.pi/180 :.2f} Nm/deg')\n",
    "\n",
    "\n",
    "variable_values = [\n",
    "    (track_symb, track_width), \n",
    "    (center_of_mass_height_symb, center_of_mass_height), \n",
    "    (RCH_f_symb, front_roll_center_height), \n",
    "    (RCH_r_symb, rear_roll_center_height), \n",
    "    (mass_symb, vehicle_mass),\n",
    "    (f_lt_ratio, 1.05), #slightly higher front load transfer is to give margin for understeer \n",
    "    (r_mass_ratio, rear_mass_ratio), \n",
    "    (roll_stiffness_rear, rear_spring_roll_stiffness),\n",
    "    (chassis_tuning_constant, 0.8)  #ratio of how a change in roll stiffness balance affects the load transfer balance\n",
    "]\n",
    "\n",
    "print('\\nExpressions for substitution:')\n",
    "display(*[sympy.Eq(*equality) for equality in variable_values] )\n",
    "\n",
    "numeric_equations = [eq.subs(variable_values).simplify() for eq in nondim_equations]\n",
    "print('\\nFinal System of Equations:')\n",
    "display(*numeric_equations)  \n",
    "chassis_stiffness, front_roll_stiffness_ratio, lt_to_ac_ratio  = sympy.solve(numeric_equations, [chassis_stiffness, f_roll_spring_ratio, lt_to_acceleration_ratio])[0]\n",
    "\n",
    "print(f'\\nchassis_stiffness: {chassis_stiffness*np.pi/180 :.2f} Nm/deg        front spring roll stiffness ratio: {front_roll_stiffness_ratio :.2f}        LT/ac: {lt_to_ac_ratio :.2f}')\n",
    "\n",
    "\n",
    "\n",
    "front_roll_spring_rate = front_roll_stiffness_ratio*rear_spring_roll_stiffness\n",
    "print(f'\\nThe front roll rate which give a front load transfer ratio of {1.05} is {front_roll_spring_rate*2*np.pi/180 :.2f} Nm/deg')\n",
    "\n",
    "front_roll_rate_from_ride = track_width**2 * front_wheel_ride_rate / 2 #TODO double check constants in equation\n",
    "front_arb_contribution = (front_roll_spring_rate-front_roll_rate_from_ride)/front_roll_spring_rate\n",
    "print(f'The front ARB contributes {front_arb_contribution*100 :.2f}% to the front roll stiffness')\n",
    "\n",
    "\n",
    "### THIS IS A NUMERIC SOLUTION TO THE SAME EQUATIONS AS ABOVE, PROBABLY NOT NESSECARY \n",
    "#numeric_exprs = [(1-eq.rhs/eq.lhs).simplify() for eq in numeric_equations]\n",
    "#print('\\n the expressions for numeric evaluation:')\n",
    "#display(*numeric_exprs)\n",
    "#numeric_equation_functions = [sympy.Lambda((kch, f_roll_spring_ratio, lt_to_acceleration_ratio), expr) for expr in numeric_exprs]\n",
    "#def f(x, function_list=numeric_equation_functions):\n",
    "    #return [func(*x) for func in function_list]\n",
    "\n",
    "#chassis_stiffness, front_roll_stiffness_ratio, lt_to_ac_ratio  = fsolve(f, [1000 * 180/np.pi, 1.05, 40])\n",
    "#print(f'\\nchassis_stiffness: {chassis_stiffness*np.pi/180 :.2f}        front roll stiffness ratio: {front_roll_stiffness_ratio :.2f}        LT/ac: {lt_to_ac_ratio :.2f}')\n",
    "\n",
    "\n"
   ]
  },
  {
   "cell_type": "markdown",
   "id": "275096a0",
   "metadata": {},
   "source": [
    "<h3>Suspension Pickup Point Calculation</h3>\n",
    "\n"
   ]
  },
  {
   "cell_type": "code",
   "execution_count": 6,
   "id": "5af07130",
   "metadata": {},
   "outputs": [],
   "source": [
    "loaded_wheel_radius = 230e-3 #m\n",
    "suspension_pickup_spacing = 250e-3 #m\n",
    "minimum_lca_centerline_distance = 150e-3 #m         This is the minimum distance from the LCA chassis pickup to the centerline in order to adhere to rules\n",
    "\n",
    "upright_pickup_offset = 50e-3 #m\n",
    "kpi = np.radians(5) #rads\n",
    "\n",
    "dynamic_camber = np.radians(8) #rads        This is a wild guess at camber to give maximum lateral acceleration\n",
    "\n",
    "\n"
   ]
  }
 ],
 "metadata": {
  "kernelspec": {
   "display_name": "Python 3",
   "language": "python",
   "name": "python3"
  },
  "language_info": {
   "codemirror_mode": {
    "name": "ipython",
    "version": 3
   },
   "file_extension": ".py",
   "mimetype": "text/x-python",
   "name": "python",
   "nbconvert_exporter": "python",
   "pygments_lexer": "ipython3",
   "version": "3.12.4"
  }
 },
 "nbformat": 4,
 "nbformat_minor": 5
}
