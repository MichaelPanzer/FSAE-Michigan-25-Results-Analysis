{
 "cells": [
  {
   "cell_type": "markdown",
   "id": "e15084dd",
   "metadata": {},
   "source": [
    "<h1>Roll Balance and Chassis Equations\n",
    "\n",
    "\n",
    "Sources:\n",
    "RCVD..."
   ]
  },
  {
   "cell_type": "code",
   "execution_count": 1,
   "id": "851a7ff3",
   "metadata": {},
   "outputs": [],
   "source": [
    "import numpy as np\n",
    "import scipy as sp\n",
    "from matplotlib import pyplot as plt\n",
    "from IPython.display import display, Markdown\n",
    "import sympy\n",
    "\n",
    "# Wrapper function for easily displaying markdown text\n",
    "disp_md = lambda text: display(Markdown(text))\n"
   ]
  },
  {
   "cell_type": "markdown",
   "id": "e3ebe5ea",
   "metadata": {},
   "source": [
    "<h2> Symbolically set up load transfer equations"
   ]
  },
  {
   "cell_type": "code",
   "execution_count": 2,
   "id": "79c2c24b",
   "metadata": {},
   "outputs": [
    {
     "data": {
      "text/markdown": [
       "## Moment Balance Equations:"
      ],
      "text/plain": [
       "<IPython.core.display.Markdown object>"
      ]
     },
     "metadata": {},
     "output_type": "display_data"
    },
    {
     "data": {
      "text/latex": [
       "$\\displaystyle M_{f} = - K_{ch} \\left(- \\phi_{1} + \\phi_{2}\\right) + K_{f} \\phi_{1}$"
      ],
      "text/plain": [
       "Eq(M_f, -K_ch*(-phi_1 + phi_2) + K_f*phi_1)"
      ]
     },
     "metadata": {},
     "output_type": "display_data"
    },
    {
     "data": {
      "text/latex": [
       "$\\displaystyle M_{r} = K_{ch} \\left(- \\phi_{1} + \\phi_{2}\\right) + K_{r} \\phi_{2}$"
      ],
      "text/plain": [
       "Eq(M_r, K_ch*(-phi_1 + phi_2) + K_r*phi_2)"
      ]
     },
     "metadata": {},
     "output_type": "display_data"
    },
    {
     "data": {
      "text/markdown": [
       "## Chassis Tuning Constant Equation:"
      ],
      "text/plain": [
       "<IPython.core.display.Markdown object>"
      ]
     },
     "metadata": {},
     "output_type": "display_data"
    },
    {
     "data": {
      "text/latex": [
       "$\\displaystyle \\frac{1}{κ} = \\frac{\\left(η + 1\\right) \\left(λ - 1\\right)}{\\left(η - 1\\right) \\left(λ + 1\\right)}$"
      ],
      "text/plain": [
       "Eq(1/κ, (η + 1)*(λ - 1)/((η - 1)*(λ + 1)))"
      ]
     },
     "metadata": {},
     "output_type": "display_data"
    },
    {
     "data": {
      "text/markdown": [
       "## Average Wheel Travel In Roll Equation:"
      ],
      "text/plain": [
       "<IPython.core.display.Markdown object>"
      ]
     },
     "metadata": {},
     "output_type": "display_data"
    },
    {
     "data": {
      "text/latex": [
       "$\\displaystyle ΔW = \\frac{T \\left(\\phi_{1} + \\phi_{2}\\right)}{4}$"
      ],
      "text/plain": [
       "Eq(ΔW, T*(phi_1 + phi_2)/4)"
      ]
     },
     "metadata": {},
     "output_type": "display_data"
    },
    {
     "data": {
      "text/markdown": [
       "## Load Transfer System of Equations:"
      ],
      "text/plain": [
       "<IPython.core.display.Markdown object>"
      ]
     },
     "metadata": {},
     "output_type": "display_data"
    },
    {
     "data": {
      "text/latex": [
       "$\\displaystyle \\frac{K_{f} \\left(K_{ch} M_{f} + K_{ch} M_{r} + K_{r} M_{f}\\right)}{T \\left(K_{ch} K_{f} + K_{ch} K_{r} + K_{f} K_{r}\\right)} = LT_{f}$"
      ],
      "text/plain": [
       "Eq(K_f*(K_ch*M_f + K_ch*M_r + K_r*M_f)/(T*(K_ch*K_f + K_ch*K_r + K_f*K_r)), LT_f)"
      ]
     },
     "metadata": {},
     "output_type": "display_data"
    },
    {
     "data": {
      "text/latex": [
       "$\\displaystyle \\frac{K_{r} \\left(K_{ch} M_{f} + K_{ch} M_{r} + K_{f} M_{r}\\right)}{T \\left(K_{ch} K_{f} + K_{ch} K_{r} + K_{f} K_{r}\\right)} = LT_{r}$"
      ],
      "text/plain": [
       "Eq(K_r*(K_ch*M_f + K_ch*M_r + K_f*M_r)/(T*(K_ch*K_f + K_ch*K_r + K_f*K_r)), LT_r)"
      ]
     },
     "metadata": {},
     "output_type": "display_data"
    },
    {
     "data": {
      "text/latex": [
       "$\\displaystyle \\frac{1}{κ} = \\frac{\\left(η + 1\\right) \\left(λ - 1\\right)}{\\left(η - 1\\right) \\left(λ + 1\\right)}$"
      ],
      "text/plain": [
       "Eq(1/κ, (η + 1)*(λ - 1)/((η - 1)*(λ + 1)))"
      ]
     },
     "metadata": {},
     "output_type": "display_data"
    },
    {
     "data": {
      "text/latex": [
       "$\\displaystyle ΔW = \\frac{T \\left(\\frac{K_{ch} M_{f} + K_{ch} M_{r} + K_{f} M_{r}}{K_{ch} K_{f} + K_{ch} K_{r} + K_{f} K_{r}} + \\frac{K_{ch} M_{f} + K_{ch} M_{r} + K_{r} M_{f}}{K_{ch} K_{f} + K_{ch} K_{r} + K_{f} K_{r}}\\right)}{4}$"
      ],
      "text/plain": [
       "Eq(ΔW, T*((K_ch*M_f + K_ch*M_r + K_f*M_r)/(K_ch*K_f + K_ch*K_r + K_f*K_r) + (K_ch*M_f + K_ch*M_r + K_r*M_f)/(K_ch*K_f + K_ch*K_r + K_f*K_r))/4)"
      ]
     },
     "metadata": {},
     "output_type": "display_data"
    },
    {
     "data": {
      "text/markdown": [
       "## Nondim Load Transfer Equations:"
      ],
      "text/plain": [
       "<IPython.core.display.Markdown object>"
      ]
     },
     "metadata": {},
     "output_type": "display_data"
    },
    {
     "data": {
      "text/latex": [
       "$\\displaystyle \\frac{a_{c} η ξ}{η + 1} = \\frac{a_{c} m λ \\left(K_{ch} γ \\left(H_{cg} - RCH_{r}\\right) + K_{ch} \\left(γ - 1\\right) \\left(- H_{cg} + RCH_{r} + δ\\right) + K_{r} \\left(γ - 1\\right) \\left(- H_{cg} + RCH_{r} + δ\\right)\\right)}{T \\left(K_{ch} λ + K_{ch} + K_{r} λ\\right)}$"
      ],
      "text/plain": [
       "Eq(a_c*η*ξ/(η + 1), a_c*m*λ*(K_ch*γ*(H_cg - RCH_r) + K_ch*(γ - 1)*(-H_cg + RCH_r + δ) + K_r*(γ - 1)*(-H_cg + RCH_r + δ))/(T*(K_ch*λ + K_ch + K_r*λ)))"
      ]
     },
     "metadata": {},
     "output_type": "display_data"
    },
    {
     "data": {
      "text/latex": [
       "$\\displaystyle \\frac{a_{c} ξ}{η + 1} = \\frac{a_{c} m \\left(K_{ch} γ \\left(H_{cg} - RCH_{r}\\right) + K_{ch} \\left(γ - 1\\right) \\left(- H_{cg} + RCH_{r} + δ\\right) + K_{r} γ λ \\left(H_{cg} - RCH_{r}\\right)\\right)}{T \\left(K_{ch} λ + K_{ch} + K_{r} λ\\right)}$"
      ],
      "text/plain": [
       "Eq(a_c*ξ/(η + 1), a_c*m*(K_ch*γ*(H_cg - RCH_r) + K_ch*(γ - 1)*(-H_cg + RCH_r + δ) + K_r*γ*λ*(H_cg - RCH_r))/(T*(K_ch*λ + K_ch + K_r*λ)))"
      ]
     },
     "metadata": {},
     "output_type": "display_data"
    },
    {
     "data": {
      "text/latex": [
       "$\\displaystyle \\frac{1}{κ} = \\frac{\\left(η + 1\\right) \\left(λ - 1\\right)}{\\left(η - 1\\right) \\left(λ + 1\\right)}$"
      ],
      "text/plain": [
       "Eq(1/κ, (η + 1)*(λ - 1)/((η - 1)*(λ + 1)))"
      ]
     },
     "metadata": {},
     "output_type": "display_data"
    },
    {
     "data": {
      "text/latex": [
       "$\\displaystyle ΔW = \\frac{T a_{c} m \\left(2 K_{ch} γ \\left(H_{cg} - RCH_{r}\\right) + 2 K_{ch} \\left(γ - 1\\right) \\left(- H_{cg} + RCH_{r} + δ\\right) + K_{r} γ λ \\left(H_{cg} - RCH_{r}\\right) + K_{r} \\left(γ - 1\\right) \\left(- H_{cg} + RCH_{r} + δ\\right)\\right)}{4 K_{r} \\left(K_{ch} λ + K_{ch} + K_{r} λ\\right)}$"
      ],
      "text/plain": [
       "Eq(ΔW, T*a_c*m*(2*K_ch*γ*(H_cg - RCH_r) + 2*K_ch*(γ - 1)*(-H_cg + RCH_r + δ) + K_r*γ*λ*(H_cg - RCH_r) + K_r*(γ - 1)*(-H_cg + RCH_r + δ))/(4*K_r*(K_ch*λ + K_ch + K_r*λ)))"
      ]
     },
     "metadata": {},
     "output_type": "display_data"
    }
   ],
   "source": [
    "total_load_transfer_symb, load_transfer_front_symb, load_transfer_rear_symb  = sympy.symbols('LT LT_f LT_r')\n",
    "roll_stiffness_front_symb, roll_stiffness_rear_symb, chassis_stiffness_symb, lateral_acceleration_symb = sympy.symbols('K_f K_r K_ch a_c')\n",
    "track_symb, center_of_mass_height_symb, RCH_f_symb, RCH_r_symb = sympy.symbols('T H_cg RCH_f RCH_r')\n",
    "mass_symb, mass_front_symb, mass_rear_symb = sympy.symbols('m m_f m_r')\n",
    "\n",
    "phi_1_symb, phi_2_symb, front_inertial_moment_symb, rear_inertial_moment_symb, avg_wheel_travel_symb = sympy.symbols('phi_1 phi_2 M_f M_r ΔW')\n",
    "f_lt_ratio_symb, f_roll_spring_ratio_symb, r_mass_ratio_symb, chassis_tuning_constant_symb, lt_to_acceleration_ratio_symb, roll_center_diff_symb = sympy.symbols('η λ γ κ ξ δ')\n",
    "\n",
    "\n",
    "front_moment_balance = sympy.Eq(front_inertial_moment_symb, roll_stiffness_front_symb*phi_1_symb - chassis_stiffness_symb*(phi_2_symb-phi_1_symb))\n",
    "rear_moment_balance = sympy.Eq(rear_inertial_moment_symb, roll_stiffness_rear_symb*phi_2_symb + chassis_stiffness_symb*(phi_2_symb-phi_1_symb))\n",
    "\n",
    "disp_md('## Moment Balance Equations:')\n",
    "display(front_moment_balance)\n",
    "display(rear_moment_balance)\n",
    "\n",
    "chassis_tuning_eq = sympy.Eq(chassis_tuning_constant_symb**-1, (f_roll_spring_ratio_symb-1)*(f_lt_ratio_symb+1)/((f_lt_ratio_symb-1)*(f_roll_spring_ratio_symb+1))) #This inverse doesn't match my notes but it seems to give better results\n",
    "disp_md('## Chassis Tuning Constant Equation:')\n",
    "display(chassis_tuning_eq)\n",
    "\n",
    "wheel_travel_equation = sympy.Eq(avg_wheel_travel_symb, track_symb/2 * (phi_1_symb+phi_2_symb)/2)\n",
    "disp_md('## Average Wheel Travel In Roll Equation:')\n",
    "display(wheel_travel_equation)\n",
    "\n",
    "roll_angles = sympy.solve([front_moment_balance, rear_moment_balance], [phi_1_symb, phi_2_symb])\n",
    "load_transfer_equations = [sympy.Eq(roll_stiffness_front_symb*roll_angles[phi_1_symb]/track_symb, load_transfer_front_symb), \n",
    "                           sympy.Eq(roll_stiffness_rear_symb*roll_angles[phi_2_symb]/track_symb, load_transfer_rear_symb), \n",
    "                           chassis_tuning_eq,\n",
    "                           wheel_travel_equation.subs(roll_angles)]\n",
    "\n",
    "disp_md('## Load Transfer System of Equations:')\n",
    "display(*load_transfer_equations)\n",
    "\n",
    "\n",
    "#total_load_transfer = 2*mass*ac*h/t\n",
    "\n",
    "substitution_expressions = [(roll_stiffness_front_symb, f_roll_spring_ratio_symb*roll_stiffness_rear_symb), \n",
    "        \n",
    "        (front_inertial_moment_symb, mass_front_symb*lateral_acceleration_symb * (center_of_mass_height_symb-RCH_f_symb)), \n",
    "        (rear_inertial_moment_symb, mass_rear_symb*lateral_acceleration_symb * (center_of_mass_height_symb-RCH_r_symb)), \n",
    "\n",
    "\n",
    "        (load_transfer_front_symb, load_transfer_rear_symb* f_lt_ratio_symb), \n",
    "        (load_transfer_rear_symb, total_load_transfer_symb/(1+f_lt_ratio_symb)),\n",
    "\n",
    "        (mass_front_symb, (1-r_mass_ratio_symb)*mass_symb), \n",
    "        (mass_rear_symb, r_mass_ratio_symb*mass_symb),\n",
    "\n",
    "        (total_load_transfer_symb, lt_to_acceleration_ratio_symb*lateral_acceleration_symb),\n",
    "\n",
    "\n",
    "        (RCH_f_symb, RCH_r_symb+roll_center_diff_symb)\n",
    "        ]\n",
    "\n",
    "nondim_equations = [expr.subs(substitution_expressions).simplify() for expr in load_transfer_equations]\n",
    "\n",
    "disp_md('## Nondim Load Transfer Equations:')\n",
    "display(*nondim_equations)\n"
   ]
  },
  {
   "cell_type": "markdown",
   "id": "c0adc376",
   "metadata": {},
   "source": [
    "<h3>Initial Ride Rate Calculations</h3>\n",
    "\n",
    "Non ground effect Indy Cars ran 95-120cpm(1.58-2.0000Hz ) which seems like a good place to start - RCVD 16.2\n",
    "\n",
    "To insure initial understeer, calculate the Total Lateral\n",
    "Load Transfer Distribution (TLLTD) to be 5% more than\n",
    "the weight distribution at the front - RCVD table 16.5"
   ]
  },
  {
   "cell_type": "code",
   "execution_count": 3,
   "id": "3c6b35d2",
   "metadata": {},
   "outputs": [
    {
     "data": {
      "text/markdown": [
       "## Vehicle Parameters"
      ],
      "text/plain": [
       "<IPython.core.display.Markdown object>"
      ]
     },
     "metadata": {},
     "output_type": "display_data"
    },
    {
     "data": {
      "text/markdown": [
       "All units are in SI"
      ],
      "text/plain": [
       "<IPython.core.display.Markdown object>"
      ]
     },
     "metadata": {},
     "output_type": "display_data"
    },
    {
     "data": {
      "text/markdown": [
       "| Parameter | Value |\n",
       "|---|---|\n",
       "| wheelbase | 1.53 |\n",
       "| track_width | 1.3 |\n",
       "| center_of_mass_height | 0.27 |\n",
       "| vehicle_mass | 325 |\n",
       "| rear_mass_ratio | 0.6 |\n",
       "| total_wheel_travel | 0.03 |\n",
       "| target_frequency | 9.425 |\n",
       "| roll_travel_ratio | 0.8 |\n",
       "| maximum_lateral_acceleration | 12.75 |\n",
       "| front_load_transfer_ratio | 1.05 |\n",
       "| chassis_tuning_constant | 0.9 |\n",
       "| roll_center_diff | -0.05 |\n"
      ],
      "text/plain": [
       "<IPython.core.display.Markdown object>"
      ]
     },
     "metadata": {},
     "output_type": "display_data"
    },
    {
     "data": {
      "text/markdown": [
       "The ideal individual *rear* wheel ride rate with an undamped natural frequency of 1.5 Hz is **8.66 N/mm**  [49.45 lb/in]"
      ],
      "text/plain": [
       "<IPython.core.display.Markdown object>"
      ]
     },
     "metadata": {},
     "output_type": "display_data"
    },
    {
     "data": {
      "text/markdown": [
       "The ideal individual *front* wheel ride rate with an undamped natural frequency of 1.5 Hz is **5.77 N/mm**  [32.97 lb/in]"
      ],
      "text/plain": [
       "<IPython.core.display.Markdown object>"
      ]
     },
     "metadata": {},
     "output_type": "display_data"
    }
   ],
   "source": [
    "g = 9.81 #m/s^2\n",
    "\n",
    "f = 1.5 # Hz\n",
    "# vehicle parameters as a dictionary\n",
    "vehicle_params = {\n",
    "    'wheelbase': 1530e-3, # m\n",
    "    'track_width': 1300e-3, # m\n",
    "    'center_of_mass_height': 270e-3, # m\n",
    "    'vehicle_mass': 250 + 75, # kg\n",
    "    'rear_mass_ratio': 0.6,\n",
    "    'total_wheel_travel': 30e-3, # m\n",
    "    'target_frequency': f*2*np.pi, # rad/s\n",
    "    'roll_travel_ratio': 0.8, # fraction of wheel travel used in roll\n",
    "    'maximum_lateral_acceleration': 1.3 * 9.81, # m/s^2\n",
    "    'front_load_transfer_ratio': 1.05, # slightly higher front load transfer is to give margin for understeer\n",
    "    'chassis_tuning_constant': 0.9, # ratio of how a change in roll stiffness balance affects the load transfer balance\n",
    "    'roll_center_diff': -50e-3 # m\n",
    "}\n",
    "\n",
    "# Display vehicle parameters as a markdown table\n",
    "def vehicle_params_table(params):\n",
    "    table = \"| Parameter | Value |\\n|---|---|\\n\"\n",
    "    for k, v in params.items():\n",
    "        try:\n",
    "            val = f\"{v:.4g}\" if isinstance(v, float) else str(v)\n",
    "        except Exception:\n",
    "            val = str(v)\n",
    "        table += f\"| {k} | {val} |\\n\"\n",
    "    return table\n",
    "\n",
    "disp_md(\"## Vehicle Parameters\")\n",
    "disp_md('All units are in SI')\n",
    "disp_md(vehicle_params_table(vehicle_params))\n",
    "\n",
    "# unpack for convenience\n",
    "wheelbase = vehicle_params['wheelbase']\n",
    "track_width = vehicle_params['track_width']\n",
    "total_wheel_travel = vehicle_params['total_wheel_travel']\n",
    "vehicle_mass = vehicle_params['vehicle_mass']\n",
    "rear_mass_ratio = vehicle_params['rear_mass_ratio']\n",
    "center_of_mass_height = vehicle_params['center_of_mass_height']\n",
    "target_frequency = vehicle_params['target_frequency']\n",
    "roll_travel_ratio = vehicle_params['roll_travel_ratio']\n",
    "maximum_lateral_acceleration = vehicle_params['maximum_lateral_acceleration']\n",
    "front_load_transfer_ratio = vehicle_params['front_load_transfer_ratio']\n",
    "chassis_tuning_constant = vehicle_params['chassis_tuning_constant']\n",
    "roll_center_diff = vehicle_params['roll_center_diff']\n",
    "\n",
    "rear_wheel_ride_rate = (vehicle_mass*rear_mass_ratio/2) * target_frequency**2\n",
    "disp_md(f'The ideal individual *rear* wheel ride rate with an undamped natural frequency of {f} Hz is **{rear_wheel_ride_rate*1e-3 :.2f} N/mm**  [{5.7101471627692*rear_wheel_ride_rate*1e-3 :.2f} lb/in]')\n",
    "\n",
    "front_wheel_ride_rate = (vehicle_mass*(1-rear_mass_ratio)/2) * target_frequency**2\n",
    "disp_md(f'The ideal individual *front* wheel ride rate with an undamped natural frequency of {f} Hz is **{front_wheel_ride_rate*1e-3 :.2f} N/mm**  [{5.7101471627692*front_wheel_ride_rate*1e-3 :.2f} lb/in]')\n"
   ]
  },
  {
   "cell_type": "markdown",
   "id": "97ffdf5c",
   "metadata": {},
   "source": [
    "<h3> Front ARB and chassis stiffness </h3>"
   ]
  },
  {
   "cell_type": "code",
   "execution_count": 4,
   "id": "da1a11cc",
   "metadata": {},
   "outputs": [
    {
     "data": {
      "text/markdown": [
       "## Roll Balance Parameters"
      ],
      "text/plain": [
       "<IPython.core.display.Markdown object>"
      ]
     },
     "metadata": {},
     "output_type": "display_data"
    },
    {
     "data": {
      "text/markdown": [
       "| Parameter | Value |\n",
       "|---|---|\n",
       "| T |  1.300 |\n",
       "| H_cg |  0.270 |\n",
       "| m |  325.000 |\n",
       "| K_r |  7318.188 |\n",
       "| ΔW |  0.024 |\n",
       "| η |  1.050 |\n",
       "| γ |  0.600 |\n",
       "| δ | -0.050 |\n",
       "| κ |  0.900 |\n",
       "| a_c |  12.753 |\n"
      ],
      "text/plain": [
       "<IPython.core.display.Markdown object>"
      ]
     },
     "metadata": {},
     "output_type": "display_data"
    },
    {
     "name": "stdout",
     "output_type": "stream",
     "text": [
      "\n",
      "\n"
     ]
    },
    {
     "data": {
      "text/markdown": [
       "The Chassis Stiffness needed to achieve a Chassis Tuning Constant of 0.9 is **1096.41 Nm/deg**"
      ],
      "text/plain": [
       "<IPython.core.display.Markdown object>"
      ]
     },
     "metadata": {},
     "output_type": "display_data"
    },
    {
     "name": "stdout",
     "output_type": "stream",
     "text": [
      "\n",
      "\n"
     ]
    },
    {
     "data": {
      "text/markdown": [
       "The front spring roll stiffness ratio is **1.0557**"
      ],
      "text/plain": [
       "<IPython.core.display.Markdown object>"
      ]
     },
     "metadata": {},
     "output_type": "display_data"
    },
    {
     "data": {
      "text/markdown": [
       "The rear roll rate is **255.45 Nm/deg**"
      ],
      "text/plain": [
       "<IPython.core.display.Markdown object>"
      ]
     },
     "metadata": {},
     "output_type": "display_data"
    },
    {
     "data": {
      "text/markdown": [
       "The front roll rate which gives a front load transfer ratio of 1.05 is **269.68 Nm/deg**"
      ],
      "text/plain": [
       "<IPython.core.display.Markdown object>"
      ]
     },
     "metadata": {},
     "output_type": "display_data"
    },
    {
     "data": {
      "text/markdown": [
       "The front ARB contributes **36.85%** to the front roll stiffness"
      ],
      "text/plain": [
       "<IPython.core.display.Markdown object>"
      ]
     },
     "metadata": {},
     "output_type": "display_data"
    },
    {
     "name": "stdout",
     "output_type": "stream",
     "text": [
      "\n",
      "\n"
     ]
    },
    {
     "data": {
      "text/markdown": [
       "The Rear Roll Center Height is **155.99 mm**"
      ],
      "text/plain": [
       "<IPython.core.display.Markdown object>"
      ]
     },
     "metadata": {},
     "output_type": "display_data"
    },
    {
     "data": {
      "text/markdown": [
       "The Front Roll Center Height is **105.99 mm**"
      ],
      "text/plain": [
       "<IPython.core.display.Markdown object>"
      ]
     },
     "metadata": {},
     "output_type": "display_data"
    }
   ],
   "source": [
    "rear_roll_stiffness = track_width**2 * rear_wheel_ride_rate / 2 #TODO double check constant in equation\n",
    "\n",
    "\n",
    "variable_values = [\n",
    "    (track_symb, track_width), \n",
    "    (center_of_mass_height_symb, center_of_mass_height), \n",
    "    (mass_symb, vehicle_mass),\n",
    "    (roll_stiffness_rear_symb, rear_roll_stiffness),\n",
    "    (avg_wheel_travel_symb, total_wheel_travel*roll_travel_ratio),\n",
    "    (f_lt_ratio_symb, front_load_transfer_ratio),\n",
    "    (r_mass_ratio_symb, rear_mass_ratio), \n",
    "    (roll_center_diff_symb, roll_center_diff), \n",
    "    (chassis_tuning_constant_symb, chassis_tuning_constant),  #ratio of how a change in roll stiffness balance affects the load transfer balance\n",
    "    (lateral_acceleration_symb, maximum_lateral_acceleration),\n",
    "]\n",
    "\n",
    "disp_md('## Roll Balance Parameters')\n",
    "table = \"| Parameter | Value |\\n|---|---|\\n\" + \"\".join([f\"| {eq[0]} | {eq[1] : .3f} |\\n\" for eq in variable_values])\n",
    "disp_md(table)\n",
    "\n",
    "numeric_equations = [eq.subs(variable_values).simplify() for eq in nondim_equations]\n",
    "#disp_md('## Final System of Equations:')\n",
    "#display(*numeric_equations)  \n",
    "chassis_stiffness, front_roll_stiffness_ratio, lt_to_ac_ratio, rear_roll_center_height  = sympy.solve(numeric_equations, [chassis_stiffness_symb, f_roll_spring_ratio_symb, lt_to_acceleration_ratio_symb, RCH_r_symb])[0]\n",
    "\n",
    "\n",
    "print('\\n')\n",
    "front_roll_stiffness = front_roll_stiffness_ratio*rear_roll_stiffness\n",
    "disp_md(f'The Chassis Stiffness needed to achieve a Chassis Tuning Constant of {chassis_tuning_constant} is **{chassis_stiffness*np.pi/180 :.2f} Nm/deg**')\n",
    "\n",
    "print('\\n')\n",
    "disp_md(f'The front spring roll stiffness ratio is **{front_roll_stiffness_ratio :.4f}**')\n",
    "disp_md(f'The rear roll rate is **{rear_roll_stiffness*2*np.pi/180 :.2f} Nm/deg**')\n",
    "front_roll_stiffness = front_roll_stiffness_ratio*rear_roll_stiffness\n",
    "disp_md(f'The front roll rate which gives a front load transfer ratio of {front_load_transfer_ratio} is **{front_roll_stiffness*2*np.pi/180 :.2f} Nm/deg**')\n",
    "front_roll_rate_from_ride = track_width**2 * front_wheel_ride_rate / 2 #TODO double check constant in equation\n",
    "front_arb_contribution = (front_roll_stiffness-front_roll_rate_from_ride)/front_roll_stiffness\n",
    "disp_md(f'The front ARB contributes **{front_arb_contribution*100 :.2f}%** to the front roll stiffness')\n",
    "\n",
    "print('\\n')\n",
    "disp_md(f'The Rear Roll Center Height is **{rear_roll_center_height*1e+3 :.2f} mm**')\n",
    "\n",
    "front_roll_center_height = rear_roll_center_height + roll_center_diff\n",
    "disp_md(f'The Front Roll Center Height is **{front_roll_center_height*1e+3 :.2f} mm**')\n",
    "\n",
    "\n",
    "\n",
    "\n"
   ]
  },
  {
   "cell_type": "markdown",
   "id": "275096a0",
   "metadata": {},
   "source": [
    "<h3>Suspension Pickup Point Calculation</h3>\n",
    "\n"
   ]
  },
  {
   "cell_type": "code",
   "execution_count": null,
   "id": "5af07130",
   "metadata": {},
   "outputs": [
    {
     "data": {
      "text/markdown": [
       "Beta = 13 degrees"
      ],
      "text/plain": [
       "<IPython.core.display.Markdown object>"
      ]
     },
     "metadata": {},
     "output_type": "display_data"
    },
    {
     "data": {
      "text/markdown": [
       "The rear roll angle is 2.22 deg"
      ],
      "text/plain": [
       "<IPython.core.display.Markdown object>"
      ]
     },
     "metadata": {},
     "output_type": "display_data"
    },
    {
     "data": {
      "text/markdown": [
       "The IC arm length is 1863.02 mm"
      ],
      "text/plain": [
       "<IPython.core.display.Markdown object>"
      ]
     },
     "metadata": {},
     "output_type": "display_data"
    },
    {
     "data": {
      "text/markdown": [
       "Instantaneous Center point: **-1213.02** mm from centerline, **447.10** mm height"
      ],
      "text/plain": [
       "<IPython.core.display.Markdown object>"
      ]
     },
     "metadata": {},
     "output_type": "display_data"
    },
    {
     "data": {
      "text/markdown": [
       "LCA outer point: **600.00** mm from centerline, **105.00** mm height"
      ],
      "text/plain": [
       "<IPython.core.display.Markdown object>"
      ]
     },
     "metadata": {},
     "output_type": "display_data"
    },
    {
     "data": {
      "text/markdown": [
       "LCA inner point: **250.00** mm from centerline, **171.04** mm height"
      ],
      "text/plain": [
       "<IPython.core.display.Markdown object>"
      ]
     },
     "metadata": {},
     "output_type": "display_data"
    },
    {
     "data": {
      "text/markdown": [
       "LCA length: **356.18** mm"
      ],
      "text/plain": [
       "<IPython.core.display.Markdown object>"
      ]
     },
     "metadata": {},
     "output_type": "display_data"
    },
    {
     "data": {
      "text/markdown": [
       "UCA outer point: **550.00** mm from centerline, **355.00** mm height"
      ],
      "text/plain": [
       "<IPython.core.display.Markdown object>"
      ]
     },
     "metadata": {},
     "output_type": "display_data"
    },
    {
     "data": {
      "text/markdown": [
       "UCA inner point: **301.02** mm from centerline, **368.01** mm height"
      ],
      "text/plain": [
       "<IPython.core.display.Markdown object>"
      ]
     },
     "metadata": {},
     "output_type": "display_data"
    },
    {
     "data": {
      "text/plain": [
       "Text(0.5, 1.0, 'Rear Suspension Geometry')"
      ]
     },
     "execution_count": 13,
     "metadata": {},
     "output_type": "execute_result"
    },
    {
     "data": {
      "image/png": "[encoded data removed]",
      "text/plain": [
       "<Figure size 640x480 with 1 Axes>"
      ]
     },
     "metadata": {},
     "output_type": "display_data"
    }
   ],
   "source": [
    "loaded_wheel_radius = 230e-3 #m\n",
    "upright_vertical_spacing = 250e-3 #m\n",
    "minimum_lca_centerline_distance = 250e-3 #m         This is the minimum distance from the LCA chassis pickup to the centerline in order to adhere to rules\n",
    "ground_clearance = vehicle_params['total_wheel_travel']\n",
    "\n",
    "upright_pickup_offset = 50e-3 #m\n",
    "kpi = np.radians(5) #rads\n",
    "\n",
    "static_camber = np.radians(-1.5) #rads       This is a wild guess at static camber\n",
    "dynamic_camber = np.radians(-4.5) #rads        This is the camber angle at the maximum lateral acceleration\n",
    "\n",
    "#REAR\n",
    "rear_roll_angle = roll_angles[phi_1_symb].subs([(chassis_stiffness_symb, chassis_stiffness),         \n",
    "                                                (front_inertial_moment_symb, mass_front_symb*vehicle_params['maximum_lateral_acceleration'] * (vehicle_params['center_of_mass_height']-rear_roll_center_height)), \n",
    "                                                (rear_inertial_moment_symb, mass_rear_symb*vehicle_params['maximum_lateral_acceleration'] * (vehicle_params['center_of_mass_height']-front_roll_center_height)), \n",
    "                                                (mass_rear_symb, vehicle_mass*rear_mass_ratio),\n",
    "                                                (mass_front_symb, vehicle_mass*(1-rear_mass_ratio)),\n",
    "                                                (roll_stiffness_rear_symb, rear_roll_stiffness),\n",
    "                                                (roll_stiffness_front_symb, front_roll_stiffness),\n",
    "])\n",
    "\n",
    "roll_center_angle = np.arctan(float(rear_roll_center_height/(track_width/2)))\n",
    "disp_md(f'Beta = {roll_center_angle*180/np.pi :.2g} degrees')\n",
    "\n",
    "disp_md(f'The rear roll angle is {rear_roll_angle*180/np.pi :.2f} deg')\n",
    "#IC_dist = np.tan(float(rear_roll_angle)) * track_width / (2*np.tan(float(dynamic_camber+rear_roll_angle+static_camber)))\n",
    "IC_dist = -track_width / (1 + (dynamic_camber-static_camber)/(rear_roll_angle)) /2\n",
    "disp_md(f'The IC arm length is {IC_dist*1e+3 :.2f} mm')\n",
    "\n",
    "IC_point = np.array([track_width/2 - IC_dist, IC_dist*np.tan(roll_center_angle)])\n",
    "disp_md(f'Instantaneous Center point: **{IC_point[0]*1e+3 :.2f}** mm from centerline, **{IC_point[1]*1e+3 :.2f}** mm height')\n",
    "\n",
    "rear_lca_upright_offset = 50e-3 #m\n",
    "\n",
    "lca_outer_point = np.array([track_width/2 - rear_lca_upright_offset, loaded_wheel_radius - upright_vertical_spacing/2])\n",
    "disp_md(f'LCA outer point: **{lca_outer_point[0]*1e+3 :.2f}** mm from centerline, **{lca_outer_point[1]*1e+3 :.2f}** mm height')\n",
    "\n",
    "lca_inner_point = np.array([minimum_lca_centerline_distance, lca_outer_point[1] - (lca_outer_point[0]-minimum_lca_centerline_distance) * (IC_point[1]-lca_outer_point[1])/(IC_point[0]-lca_outer_point[0])])\n",
    "disp_md(f'LCA inner point: **{lca_inner_point[0]*1e+3 :.2f}** mm from centerline, **{lca_inner_point[1]*1e+3 :.2f}** mm height')\n",
    "\n",
    "lca_len = np.sqrt(float((lca_outer_point[0]-lca_inner_point[0])**2 + (lca_outer_point[1]-lca_inner_point[1])**2))\n",
    "disp_md(f'LCA length: **{lca_len*1e+3 :.2f}** mm')\n",
    "\n",
    "uca_len = 0.7 * lca_len\n",
    "uca_upright_offset = 100e-3 #m\n",
    "\n",
    "uca_outer_point = np.array([track_width/2 - uca_upright_offset, loaded_wheel_radius + upright_vertical_spacing/2])\n",
    "disp_md(f'UCA outer point: **{uca_outer_point[0]*1e+3 :.2f}** mm from centerline, **{uca_outer_point[1]*1e+3 :.2f}** mm height')\n",
    "\n",
    "uca_outer_to_ic = IC_point - uca_outer_point\n",
    "uca_inner_point = uca_outer_point + uca_len * uca_outer_to_ic/np.sqrt(float((uca_outer_to_ic[0]**2 + uca_outer_to_ic[1]**2)))\n",
    "disp_md(f'UCA inner point: **{uca_inner_point[0]*1e+3 :.2f}** mm from centerline, **{uca_inner_point[1]*1e+3 :.2f}** mm height')\n",
    "\n",
    "plt.plot([IC_point[0], uca_outer_point[0]], [IC_point[1], uca_outer_point[1]], color='black', linestyle='--', alpha=0.5)\n",
    "plt.plot([IC_point[0], lca_outer_point[0]], [IC_point[1], lca_outer_point[1]], color='black', linestyle='--', alpha=0.5)\n",
    "\n",
    "plt.scatter(*IC_point, label='IC Point', color='red')\n",
    "plt.scatter(*lca_inner_point, label=f'LCA Inner Point <{lca_inner_point[0]*1e+3 :.3g} , {lca_inner_point[1]*1e+3 :.3g}>mm', color='orange')\n",
    "plt.scatter(*lca_outer_point, label=f'LCA Outer Point <{lca_outer_point[0]*1e+3 :.3g} , {lca_outer_point[1]*1e+3 :.3g}>mm', color='purple')\n",
    "plt.scatter(*uca_inner_point, label=f'UCA Inner Point', color='blue')\n",
    "plt.scatter(*uca_outer_point, label=f'UCA Outer Point', color='green')\n",
    "\n",
    "plt.vlines([0, track_width/2], 0, 0.5)\n",
    "\n",
    "plt.legend()\n",
    "plt.grid()\n",
    "plt.title('Rear Suspension Geometry')\n"
   ]
  }
 ],
 "metadata": {
  "kernelspec": {
   "display_name": "Python 3",
   "language": "python",
   "name": "python3"
  },
  "language_info": {
   "codemirror_mode": {
    "name": "ipython",
    "version": 3
   },
   "file_extension": ".py",
   "mimetype": "text/x-python",
   "name": "python",
   "nbconvert_exporter": "python",
   "pygments_lexer": "ipython3",
   "version": "3.12.4"
  }
 },
 "nbformat": 4,
 "nbformat_minor": 5
}
