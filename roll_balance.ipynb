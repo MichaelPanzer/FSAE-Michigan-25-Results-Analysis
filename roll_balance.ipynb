{
 "cells": [
  {
   "cell_type": "markdown",
   "id": "e15084dd",
   "metadata": {},
   "source": [
    "<h1>Roll Balance and Chassis Equations\n",
    "\n",
    "\n",
    "Sources:\n",
    "RCVD..."
   ]
  },
  {
   "cell_type": "code",
   "execution_count": 51,
   "id": "851a7ff3",
   "metadata": {},
   "outputs": [],
   "source": [
    "import numpy as np\n",
    "import scipy as sp\n",
    "from matplotlib import pyplot as plt\n",
    "from IPython.display import display, Markdown\n",
    "import sympy\n",
    "\n",
    "\n",
    "disp_md = lambda text: display(Markdown(text))\n"
   ]
  },
  {
   "cell_type": "markdown",
   "id": "c0adc376",
   "metadata": {},
   "source": [
    "<h3>Initial Ride Rate Calculations</h3>\n",
    "\n",
    "Non ground effect Indy Cars ran 95-120cpm(1.58-2.0000Hz ) which seems like a good place to start - RCVD 16.2\n",
    "\n",
    "To insure initial understeer, calculate the Total Lateral\n",
    "Load Transfer Distribution (TLLTD) to be 5% more than\n",
    "the weight distribution at the front - RCVD table 16.5"
   ]
  },
  {
   "cell_type": "code",
   "execution_count": null,
   "id": "f8bc3413",
   "metadata": {},
   "outputs": [
    {
     "data": {
      "text/markdown": [
       "The ideal individual rear wheel ride rate with an undamped natural frequency of 2.0 Hz is **15.63 N/mm**; **89.27 lb/in**"
      ],
      "text/plain": [
       "<IPython.core.display.Markdown object>"
      ]
     },
     "metadata": {},
     "output_type": "display_data"
    },
    {
     "data": {
      "text/markdown": [
       "The ideal individual front wheel ride rate for undamped natural frequency of 2.0 Hz is **10.42 N/mm**; **59.51 lb/in**"
      ],
      "text/plain": [
       "<IPython.core.display.Markdown object>"
      ]
     },
     "metadata": {},
     "output_type": "display_data"
    },
    {
     "data": {
      "text/markdown": [
       "The front natural frequency using the same spring rates as the rear is **2.45 hz**"
      ],
      "text/plain": [
       "<IPython.core.display.Markdown object>"
      ]
     },
     "metadata": {},
     "output_type": "display_data"
    }
   ],
   "source": [
    "vehicle_mass = 250 + 80 #kg\n",
    "rear_mass_ratio = 0.6\n",
    "\n",
    "rear_mass = vehicle_mass*rear_mass_ratio\n",
    "front_mass = vehicle_mass*(1-rear_mass_ratio)\n",
    "\n",
    "def ride_rate(natural_frequency, mass):\n",
    "    return mass * natural_frequency**2\n",
    "\n",
    "\n",
    "target_frequency = 2.0 * 2*np.pi # rad/s\n",
    "rear_wheel_ride_rate = ride_rate(target_frequency, rear_mass/2)\n",
    "disp_md(f'The ideal individual rear wheel ride rate with an undamped natural frequency of {target_frequency /(np.pi*2)} Hz is **{rear_wheel_ride_rate*1e-3 :.2f} N/mm**; **{5.7101471627692*rear_wheel_ride_rate*1e-3 :.2f} lb/in**')\n",
    "\n",
    "\n",
    "\n",
    "front_wheel_ride_rate = ride_rate(target_frequency, front_mass/2)\n",
    "disp_md(f'The ideal individual front wheel ride rate for undamped natural frequency of {target_frequency /(np.pi*2)} Hz is **{front_wheel_ride_rate*1e-3 :.2f} N/mm**; **{5.7101471627692*front_wheel_ride_rate*1e-3 :.2f} lb/in**')\n",
    "\n",
    "\n",
    "front_natural_frequency = (rear_wheel_ride_rate/(front_mass/2))**(1/2)\n",
    "disp_md(f'The front natural frequency using the same spring rates as the rear is **{front_natural_frequency/(2*np.pi) :.2f} hz**')\n"
   ]
  },
  {
   "cell_type": "markdown",
   "id": "6887a4cb",
   "metadata": {},
   "source": [
    "<h3>Instant Rear Roll Center Placement</h3> "
   ]
  },
  {
   "cell_type": "code",
   "execution_count": null,
   "id": "93646cbd",
   "metadata": {},
   "outputs": [
    {
     "data": {
      "text/markdown": [
       "The roll center height needed to meet target rear wheel travel of 28.00 mm in roll is **119.78 mm**"
      ],
      "text/plain": [
       "<IPython.core.display.Markdown object>"
      ]
     },
     "metadata": {},
     "output_type": "display_data"
    },
    {
     "data": {
      "text/markdown": [
       "The front roll center height needed to give a roll axis inclination of 2 degrees is **66.35 mm**"
      ],
      "text/plain": [
       "<IPython.core.display.Markdown object>"
      ]
     },
     "metadata": {},
     "output_type": "display_data"
    },
    {
     "data": {
      "text/markdown": [
       "\n",
       "The body roll angle at a lateral acceleration of 12.75 m/s^2 is **2.47 degrees**"
      ],
      "text/plain": [
       "<IPython.core.display.Markdown object>"
      ]
     },
     "metadata": {},
     "output_type": "display_data"
    },
    {
     "data": {
      "text/markdown": [
       "The rear roll gradient from the chose parameters is **1.90 degrees/g**"
      ],
      "text/plain": [
       "<IPython.core.display.Markdown object>"
      ]
     },
     "metadata": {},
     "output_type": "display_data"
    }
   ],
   "source": [
    "def roll_center_height(desired_wheel_deflection, track, wheel_rate, cg_height, axle_mass, lateral_acceleration):\n",
    "    return cg_height - desired_wheel_deflection*track*wheel_rate/(2*axle_mass*lateral_acceleration)\n",
    "\n",
    "total_wheel_travel = 35e-3 #m\n",
    "roll_travel_ratio = 0.8\n",
    "\n",
    "track_width = 1300e-3 #m\n",
    "wheelbase = 1530e-3 #m\n",
    "\n",
    "center_of_mass_height = 220*1e-3 + total_wheel_travel #m\n",
    "g = 9.81 #m/s^2\n",
    "maximum_lateral_acceleration = 1.3*g#m/s^2\n",
    "\n",
    "roll_axis_inclination = 2 #degrees\n",
    "\n",
    "roll_wheel_deflection = total_wheel_travel*(0.8)\n",
    "rear_roll_center_height = roll_center_height(roll_wheel_deflection, track_width, rear_wheel_ride_rate, center_of_mass_height, vehicle_mass/2, maximum_lateral_acceleration)\n",
    "disp_md(f'The rear roll center height needed to meet target rear wheel travel of {total_wheel_travel*roll_travel_ratio*1e+3 :.2f} mm in roll is **{rear_roll_center_height*1e+3 :.2f} mm**')\n",
    "\n",
    "\n",
    "\n",
    "front_roll_center_height = rear_roll_center_height - np.tan(np.radians(roll_axis_inclination))*wheelbase\n",
    "disp_md(f'The front roll center height needed to give a roll axis inclination of {roll_axis_inclination} degrees is **{front_roll_center_height*1e+3 :.2f} mm**')\n",
    "\n",
    "\n",
    "maximum_body_roll_angle = np.degrees(np.atan(2*roll_wheel_deflection)/track_width)\n",
    "disp_md(f'\\nThe body roll angle at a lateral acceleration of {maximum_lateral_acceleration :.2f} m/s^2 is **{maximum_body_roll_angle :.2f} degrees**')\n",
    "\n",
    "rear_roll_gradient = maximum_body_roll_angle / maximum_lateral_acceleration  * g\n",
    "disp_md(f'The rear roll gradient from the chosen parameters is **{rear_roll_gradient :.2f} degrees/g**')\n"
   ]
  },
  {
   "cell_type": "markdown",
   "id": "e3ebe5ea",
   "metadata": {},
   "source": [
    "<h2> Symbolically set up load transfer equations"
   ]
  },
  {
   "cell_type": "code",
   "execution_count": null,
   "id": "79c2c24b",
   "metadata": {},
   "outputs": [
    {
     "data": {
      "text/markdown": [
       "## Moment Balance Equations:"
      ],
      "text/plain": [
       "<IPython.core.display.Markdown object>"
      ]
     },
     "metadata": {},
     "output_type": "display_data"
    },
    {
     "data": {
      "text/latex": [
       "$\\displaystyle M_{f} = - K_{ch} \\left(- \\phi_{1} + \\phi_{2}\\right) + K_{f} \\phi_{1}$"
      ],
      "text/plain": [
       "Eq(M_f, -K_ch*(-phi_1 + phi_2) + K_f*phi_1)"
      ]
     },
     "metadata": {},
     "output_type": "display_data"
    },
    {
     "data": {
      "text/latex": [
       "$\\displaystyle M_{r} = K_{ch} \\left(- \\phi_{1} + \\phi_{2}\\right) + K_{r} \\phi_{2}$"
      ],
      "text/plain": [
       "Eq(M_r, K_ch*(-phi_1 + phi_2) + K_r*phi_2)"
      ]
     },
     "metadata": {},
     "output_type": "display_data"
    },
    {
     "data": {
      "text/markdown": [
       "## Chassis Tuning Constant Equation:"
      ],
      "text/plain": [
       "<IPython.core.display.Markdown object>"
      ]
     },
     "metadata": {},
     "output_type": "display_data"
    },
    {
     "data": {
      "text/latex": [
       "$\\displaystyle \\frac{1}{κ} = \\frac{\\left(η + 1\\right) \\left(λ - 1\\right)}{\\left(η - 1\\right) \\left(λ + 1\\right)}$"
      ],
      "text/plain": [
       "Eq(1/κ, (η + 1)*(λ - 1)/((η - 1)*(λ + 1)))"
      ]
     },
     "metadata": {},
     "output_type": "display_data"
    },
    {
     "data": {
      "text/markdown": [
       "## Average Wheel Travel In Roll Equation:"
      ],
      "text/plain": [
       "<IPython.core.display.Markdown object>"
      ]
     },
     "metadata": {},
     "output_type": "display_data"
    },
    {
     "data": {
      "text/latex": [
       "$\\displaystyle ΔW = \\frac{T \\left(\\phi_{1} + \\phi_{2}\\right)}{4}$"
      ],
      "text/plain": [
       "Eq(ΔW, T*(phi_1 + phi_2)/4)"
      ]
     },
     "metadata": {},
     "output_type": "display_data"
    },
    {
     "data": {
      "text/markdown": [
       "## Load Transfer System of Equations:"
      ],
      "text/plain": [
       "<IPython.core.display.Markdown object>"
      ]
     },
     "metadata": {},
     "output_type": "display_data"
    },
    {
     "data": {
      "text/latex": [
       "$\\displaystyle \\frac{K_{f} \\left(K_{ch} M_{f} + K_{ch} M_{r} + K_{r} M_{f}\\right)}{T \\left(K_{ch} K_{f} + K_{ch} K_{r} + K_{f} K_{r}\\right)} = LT_{f}$"
      ],
      "text/plain": [
       "Eq(K_f*(K_ch*M_f + K_ch*M_r + K_r*M_f)/(T*(K_ch*K_f + K_ch*K_r + K_f*K_r)), LT_f)"
      ]
     },
     "metadata": {},
     "output_type": "display_data"
    },
    {
     "data": {
      "text/latex": [
       "$\\displaystyle \\frac{K_{r} \\left(K_{ch} M_{f} + K_{ch} M_{r} + K_{f} M_{r}\\right)}{T \\left(K_{ch} K_{f} + K_{ch} K_{r} + K_{f} K_{r}\\right)} = LT_{r}$"
      ],
      "text/plain": [
       "Eq(K_r*(K_ch*M_f + K_ch*M_r + K_f*M_r)/(T*(K_ch*K_f + K_ch*K_r + K_f*K_r)), LT_r)"
      ]
     },
     "metadata": {},
     "output_type": "display_data"
    },
    {
     "data": {
      "text/latex": [
       "$\\displaystyle \\frac{1}{κ} = \\frac{\\left(η + 1\\right) \\left(λ - 1\\right)}{\\left(η - 1\\right) \\left(λ + 1\\right)}$"
      ],
      "text/plain": [
       "Eq(1/κ, (η + 1)*(λ - 1)/((η - 1)*(λ + 1)))"
      ]
     },
     "metadata": {},
     "output_type": "display_data"
    },
    {
     "data": {
      "text/latex": [
       "$\\displaystyle ΔW = \\frac{T \\left(\\frac{K_{ch} M_{f} + K_{ch} M_{r} + K_{f} M_{r}}{K_{ch} K_{f} + K_{ch} K_{r} + K_{f} K_{r}} + \\frac{K_{ch} M_{f} + K_{ch} M_{r} + K_{r} M_{f}}{K_{ch} K_{f} + K_{ch} K_{r} + K_{f} K_{r}}\\right)}{4}$"
      ],
      "text/plain": [
       "Eq(ΔW, T*((K_ch*M_f + K_ch*M_r + K_f*M_r)/(K_ch*K_f + K_ch*K_r + K_f*K_r) + (K_ch*M_f + K_ch*M_r + K_r*M_f)/(K_ch*K_f + K_ch*K_r + K_f*K_r))/4)"
      ]
     },
     "metadata": {},
     "output_type": "display_data"
    },
    {
     "data": {
      "text/markdown": [
       "## Nondim Load Transfer Equations:"
      ],
      "text/plain": [
       "<IPython.core.display.Markdown object>"
      ]
     },
     "metadata": {},
     "output_type": "display_data"
    },
    {
     "data": {
      "text/latex": [
       "$\\displaystyle \\frac{a_{c} η ξ}{η + 1} = - \\frac{a_{c} m λ \\left(- K_{ch} γ \\left(H_{cg} - RCH_{r}\\right) + K_{ch} \\left(γ - 1\\right) \\left(H_{cg} - RCH_{r} + 0.05\\right) + K_{r} \\left(γ - 1\\right) \\left(H_{cg} - RCH_{r} + 0.05\\right)\\right)}{T \\left(K_{ch} λ + K_{ch} + K_{r} λ\\right)}$"
      ],
      "text/plain": [
       "Eq(a_c*η*ξ/(η + 1), -a_c*m*λ*(-K_ch*γ*(H_cg - RCH_r) + K_ch*(γ - 1)*(H_cg - RCH_r + 0.05) + K_r*(γ - 1)*(H_cg - RCH_r + 0.05))/(T*(K_ch*λ + K_ch + K_r*λ)))"
      ]
     },
     "metadata": {},
     "output_type": "display_data"
    },
    {
     "data": {
      "text/latex": [
       "$\\displaystyle \\frac{a_{c} ξ}{η + 1} = \\frac{a_{c} m \\left(K_{ch} γ \\left(H_{cg} - RCH_{r}\\right) - K_{ch} \\left(γ - 1\\right) \\left(H_{cg} - RCH_{r} + 0.05\\right) + K_{r} γ λ \\left(H_{cg} - RCH_{r}\\right)\\right)}{T \\left(K_{ch} λ + K_{ch} + K_{r} λ\\right)}$"
      ],
      "text/plain": [
       "Eq(a_c*ξ/(η + 1), a_c*m*(K_ch*γ*(H_cg - RCH_r) - K_ch*(γ - 1)*(H_cg - RCH_r + 0.05) + K_r*γ*λ*(H_cg - RCH_r))/(T*(K_ch*λ + K_ch + K_r*λ)))"
      ]
     },
     "metadata": {},
     "output_type": "display_data"
    },
    {
     "data": {
      "text/latex": [
       "$\\displaystyle \\frac{1}{κ} = \\frac{\\left(η + 1\\right) \\left(λ - 1\\right)}{\\left(η - 1\\right) \\left(λ + 1\\right)}$"
      ],
      "text/plain": [
       "Eq(1/κ, (η + 1)*(λ - 1)/((η - 1)*(λ + 1)))"
      ]
     },
     "metadata": {},
     "output_type": "display_data"
    },
    {
     "data": {
      "text/latex": [
       "$\\displaystyle ΔW = \\frac{T a_{c} m \\left(2 K_{ch} γ \\left(H_{cg} - RCH_{r}\\right) - 2 K_{ch} \\left(γ - 1\\right) \\left(H_{cg} - RCH_{r} + 0.05\\right) + K_{r} γ λ \\left(H_{cg} - RCH_{r}\\right) - K_{r} \\left(γ - 1\\right) \\left(H_{cg} - RCH_{r} + 0.05\\right)\\right)}{4 K_{r} \\left(K_{ch} λ + K_{ch} + K_{r} λ\\right)}$"
      ],
      "text/plain": [
       "Eq(ΔW, T*a_c*m*(2*K_ch*γ*(H_cg - RCH_r) - 2*K_ch*(γ - 1)*(H_cg - RCH_r + 0.05) + K_r*γ*λ*(H_cg - RCH_r) - K_r*(γ - 1)*(H_cg - RCH_r + 0.05))/(4*K_r*(K_ch*λ + K_ch + K_r*λ)))"
      ]
     },
     "metadata": {},
     "output_type": "display_data"
    }
   ],
   "source": [
    "total_load_transfer_symb, load_transfer_front_symb, load_transfer_rear_symb  = sympy.symbols('LT LT_f LT_r')\n",
    "roll_stiffness_front_symb, roll_stiffness_rear_symb, chassis_stiffness_symb, lateral_acceleration_symb = sympy.symbols('K_f K_r K_ch a_c')\n",
    "track_symb, center_of_mass_height_symb, RCH_f_symb, RCH_r_symb = sympy.symbols('T H_cg RCH_f RCH_r')\n",
    "mass_symb, mass_front_symb, mass_rear_symb = sympy.symbols('m m_f m_r')\n",
    "\n",
    "phi_1_symb, phi_2_symb, front_inertial_moment_symb, rear_inertial_moment_symb, avg_wheel_travel_symb = sympy.symbols('phi_1 phi_2 M_f M_r ΔW')\n",
    "f_lt_ratio_symb, f_roll_spring_ratio_symb, r_mass_ratio_symb, chassis_tuning_constant_symb, lt_to_acceleration_ratio_symb, roll_center_diff_symb = sympy.symbols('η λ γ κ ξ δ')\n",
    "\n",
    "\n",
    "front_moment_balance = sympy.Eq(front_inertial_moment_symb, roll_stiffness_front_symb*phi_1_symb - chassis_stiffness_symb*(phi_2_symb-phi_1_symb))\n",
    "rear_moment_balance = sympy.Eq(rear_inertial_moment_symb, roll_stiffness_rear_symb*phi_2_symb + chassis_stiffness_symb*(phi_2_symb-phi_1_symb))\n",
    "\n",
    "disp_md('## Moment Balance Equations:')\n",
    "display(front_moment_balance)\n",
    "display(rear_moment_balance)\n",
    "\n",
    "chassis_tuning_eq = sympy.Eq(chassis_tuning_constant_symb**-1, (f_roll_spring_ratio_symb-1)*(f_lt_ratio_symb+1)/((f_lt_ratio_symb-1)*(f_roll_spring_ratio_symb+1))) #This inverse doesnt match my notes but it seems to give better results\n",
    "disp_md('## Chassis Tuning Constant Equation:')\n",
    "display(chassis_tuning_eq)\n",
    "\n",
    "wheel_travel_equation = sympy.Eq(avg_wheel_travel_symb, track_symb/2 * (phi_1_symb+phi_2_symb)/2)\n",
    "disp_md('## Average Wheel Travel In Roll Equation:')\n",
    "display(wheel_travel_equation)\n",
    "\n",
    "roll_angles = sympy.solve([front_moment_balance, rear_moment_balance], [phi_1_symb, phi_2_symb])\n",
    "load_transfer_equations = [sympy.Eq(roll_stiffness_front_symb*roll_angles[phi_1_symb]/track_symb, load_transfer_front_symb), \n",
    "                           sympy.Eq(roll_stiffness_rear_symb*roll_angles[phi_2_symb]/track_symb, load_transfer_rear_symb), \n",
    "                           chassis_tuning_eq,\n",
    "                           wheel_travel_equation.subs(roll_angles)]\n",
    "\n",
    "disp_md('## Load Transfer System of Equations:')\n",
    "display(*load_transfer_equations)\n",
    "\n",
    "\n",
    "#total_load_transfer = 2*mass*ac*h/t\n",
    "\n",
    "vals = [(roll_stiffness_front_symb, f_roll_spring_ratio_symb*roll_stiffness_rear_symb), \n",
    "        \n",
    "        (front_inertial_moment_symb, mass_front_symb*lateral_acceleration_symb*(center_of_mass_height_symb-RCH_f_symb)), \n",
    "        (rear_inertial_moment_symb, mass_rear_symb*lateral_acceleration_symb*(center_of_mass_height_symb-RCH_r_symb)), \n",
    "\n",
    "\n",
    "        (load_transfer_front_symb, load_transfer_rear_symb* f_lt_ratio_symb), \n",
    "        (load_transfer_rear_symb, total_load_transfer_symb/(1+f_lt_ratio_symb)),\n",
    "\n",
    "        (mass_front_symb, (1-r_mass_ratio_symb)*mass_symb), \n",
    "        (mass_rear_symb, r_mass_ratio_symb*mass_symb),\n",
    "\n",
    "        (total_load_transfer_symb, lt_to_acceleration_ratio_symb*lateral_acceleration_symb),\n",
    "\n",
    "\n",
    "        (RCH_f_symb, RCH_r_symb-roll_center_diff_symb)\n",
    "        ]\n",
    "\n",
    "nondim_equations = [expr.subs(vals).simplify() for expr in load_transfer_equations]\n",
    "\n",
    "disp_md('## Nondim Load Transfer Equations:')\n",
    "display(*nondim_equations)\n"
   ]
  },
  {
   "cell_type": "markdown",
   "id": "97ffdf5c",
   "metadata": {},
   "source": [
    "<h3> Front ARB and chassis stiffness </h3>"
   ]
  },
  {
   "cell_type": "code",
   "execution_count": 99,
   "id": "da1a11cc",
   "metadata": {},
   "outputs": [
    {
     "data": {
      "text/markdown": [
       "The rear roll rate is **230.56 Nm/deg**"
      ],
      "text/plain": [
       "<IPython.core.display.Markdown object>"
      ]
     },
     "metadata": {},
     "output_type": "display_data"
    },
    {
     "data": {
      "text/markdown": [
       "## Vehicle Parameters:"
      ],
      "text/plain": [
       "<IPython.core.display.Markdown object>"
      ]
     },
     "metadata": {},
     "output_type": "display_data"
    },
    {
     "data": {
      "text/markdown": [
       "| Parameter | Value |\n",
       "|---|---|\n",
       "| T |  1.300 |\n",
       "| H_cg |  0.255 |\n",
       "| m |  330.000 |\n",
       "| η |  1.050 |\n",
       "| γ |  0.600 |\n",
       "| K_r |  6605.134 |\n",
       "| κ |  0.850 |\n",
       "| a_c |  12.753 |\n",
       "| W |  0.028 |\n"
      ],
      "text/plain": [
       "<IPython.core.display.Markdown object>"
      ]
     },
     "metadata": {},
     "output_type": "display_data"
    },
    {
     "data": {
      "text/markdown": [
       "\n",
       " ## Final System of Equations:"
      ],
      "text/plain": [
       "<IPython.core.display.Markdown object>"
      ]
     },
     "metadata": {},
     "output_type": "display_data"
    },
    {
     "data": {
      "text/latex": [
       "$\\displaystyle 6.5320243902439 ξ = \\frac{λ \\left(- 3237.3 K_{ch} RCH_{r} + 890.2575 K_{ch} - 8553120.18322968 RCH_{r} + 2608701.65588505\\right)}{1.0 K_{ch} λ + 1.0 K_{ch} + 6605.13404938504 λ}$"
      ],
      "text/plain": [
       "Eq(6.5320243902439*ξ, λ*(-3237.3*K_ch*RCH_r + 890.2575*K_ch - 8553120.18322968*RCH_r + 2608701.65588505)/(1.0*K_ch*λ + 1.0*K_ch + 6605.13404938504*λ))"
      ]
     },
     "metadata": {},
     "output_type": "display_data"
    },
    {
     "data": {
      "text/latex": [
       "$\\displaystyle 6.2209756097561 ξ = \\frac{- 3237.3 K_{ch} RCH_{r} + 890.2575 K_{ch} - 12829680.2748445 RCH_{r} λ + 3271568.47008535 λ}{1.0 K_{ch} λ + 1.0 K_{ch} + 6605.13404938504 λ}$"
      ],
      "text/plain": [
       "Eq(6.2209756097561*ξ, (-3237.3*K_ch*RCH_r + 890.2575*K_ch - 12829680.2748445*RCH_r*λ + 3271568.47008535*λ)/(1.0*K_ch*λ + 1.0*K_ch + 6605.13404938504*λ))"
      ]
     },
     "metadata": {},
     "output_type": "display_data"
    },
    {
     "data": {
      "text/latex": [
       "$\\displaystyle \\frac{41.0 \\left(λ - 1\\right)}{λ + 1} = 1.17647058823529$"
      ],
      "text/plain": [
       "Eq(41.0*(λ - 1)/(λ + 1), 1.17647058823529)"
      ]
     },
     "metadata": {},
     "output_type": "display_data"
    },
    {
     "data": {
      "text/latex": [
       "$\\displaystyle \\frac{- 0.165660135255222 K_{ch} \\left(RCH_{r} - 0.305\\right) - 0.248490202882833 K_{ch} \\left(RCH_{r} - 0.255\\right) - 547.1037 RCH_{r} - 820.65555 λ \\left(RCH_{r} - 0.255\\right) + 166.8666285}{K_{ch} λ + K_{ch} + 6605.13404938504 λ} = 0.028$"
      ],
      "text/plain": [
       "Eq((-0.165660135255222*K_ch*(RCH_r - 0.305) - 0.248490202882833*K_ch*(RCH_r - 0.255) - 547.1037*RCH_r - 820.65555*λ*(RCH_r - 0.255) + 166.8666285)/(K_ch*λ + K_ch + 6605.13404938504*λ), 0.028)"
      ]
     },
     "metadata": {},
     "output_type": "display_data"
    },
    {
     "data": {
      "text/markdown": [
       "Chassis Stiffness: **715.93 Nm/deg**"
      ],
      "text/plain": [
       "<IPython.core.display.Markdown object>"
      ]
     },
     "metadata": {},
     "output_type": "display_data"
    },
    {
     "data": {
      "text/markdown": [
       "Front spring roll stiffness ratio: **1.0591**"
      ],
      "text/plain": [
       "<IPython.core.display.Markdown object>"
      ]
     },
     "metadata": {},
     "output_type": "display_data"
    },
    {
     "data": {
      "text/markdown": [
       "LT/ac: **35.33**"
      ],
      "text/plain": [
       "<IPython.core.display.Markdown object>"
      ]
     },
     "metadata": {},
     "output_type": "display_data"
    },
    {
     "data": {
      "text/markdown": [
       "The Rear Roll Center Height is **135.81 mm**"
      ],
      "text/plain": [
       "<IPython.core.display.Markdown object>"
      ]
     },
     "metadata": {},
     "output_type": "display_data"
    },
    {
     "data": {
      "text/markdown": [
       "\n",
       "The front roll rate which give a front load transfer ratio of 0.85 is **244.19 Nm/deg**"
      ],
      "text/plain": [
       "<IPython.core.display.Markdown object>"
      ]
     },
     "metadata": {},
     "output_type": "display_data"
    },
    {
     "data": {
      "text/markdown": [
       "The front ARB contributes **37.05%** to the front roll stiffness"
      ],
      "text/plain": [
       "<IPython.core.display.Markdown object>"
      ]
     },
     "metadata": {},
     "output_type": "display_data"
    }
   ],
   "source": [
    "rear_spring_roll_stiffness = track_width**2 * rear_wheel_ride_rate / 4 \n",
    "disp_md(f'The rear roll rate is **{rear_spring_roll_stiffness*2*np.pi/180 :.2f} Nm/deg**')\n",
    "\n",
    "front_load_transfer_ratio = 1.05 #slightly higher front load transfer is to give margin for understeer\n",
    "chassis_tuning_constant = 0.85  #ratio of how a change in roll stiffness balance affects the load transfer balance\n",
    "\n",
    "variable_values = [\n",
    "    (track_symb, track_width), \n",
    "    (center_of_mass_height_symb, center_of_mass_height), \n",
    "    #(RCH_f_symb, front_roll_center_height), \n",
    "    #(RCH_r_symb, rear_roll_center_height), \n",
    "    (mass_symb, vehicle_mass),\n",
    "    (f_lt_ratio_symb, front_load_transfer_ratio),\n",
    "    (r_mass_ratio_symb, rear_mass_ratio), \n",
    "    (roll_stiffness_rear_symb, rear_spring_roll_stiffness),\n",
    "    (chassis_tuning_constant_symb, chassis_tuning_constant),  #ratio of how a change in roll stiffness balance affects the load transfer balance\n",
    "    (lateral_acceleration_symb, 1.3*9.81),\n",
    "    (avg_wheel_travel_symb, total_wheel_travel*roll_travel_ratio)\n",
    "]\n",
    "\n",
    "disp_md('## Vehicle Parameters:')\n",
    "table = \"| Parameter | Value |\\n|---|---|\\n\" + \"\".join([f\"| {eq[0]} | {eq[1] : .3f} |\\n\" for eq in variable_values])\n",
    "disp_md(table)\n",
    "\n",
    "numeric_equations = [eq.subs(variable_values).simplify() for eq in nondim_equations]\n",
    "disp_md('\\n ## Final System of Equations:')\n",
    "display(*numeric_equations)  \n",
    "chassis_stiffness, front_roll_stiffness_ratio, lt_to_ac_ratio, rear_roll_center_height  = sympy.solve(numeric_equations, [chassis_stiffness_symb, f_roll_spring_ratio_symb, lt_to_acceleration_ratio_symb, RCH_r_symb])[0]\n",
    "\n",
    "\n",
    "disp_md(f'Chassis Stiffness: **{chassis_stiffness*np.pi/180 :.2f} Nm/deg**')\n",
    "disp_md(f'Front spring roll stiffness ratio: **{front_roll_stiffness_ratio :.4f}**')\n",
    "disp_md(f'LT/ac: **{lt_to_ac_ratio :.2f}**')\n",
    "disp_md(f'The Rear Roll Center Height is **{rear_roll_center_height*1e+3 :.2f} mm**')\n",
    "\n",
    "front_roll_spring_rate = front_roll_stiffness_ratio*rear_spring_roll_stiffness\n",
    "disp_md(f'\\nThe front roll rate which give a front load transfer ratio of {chassis_tuning_constant} is **{front_roll_spring_rate*2*np.pi/180 :.2f} Nm/deg**')\n",
    "\n",
    "front_roll_rate_from_ride = track_width**2 * front_wheel_ride_rate / 4 #TODO double check constants in equation\n",
    "front_arb_contribution = (front_roll_spring_rate-front_roll_rate_from_ride)/front_roll_spring_rate\n",
    "disp_md(f'The front ARB contributes **{front_arb_contribution*100 :.2f}%** to the front roll stiffness')\n"
   ]
  },
  {
   "cell_type": "markdown",
   "id": "275096a0",
   "metadata": {},
   "source": [
    "<h3>Suspension Pickup Point Calculation</h3>\n",
    "\n"
   ]
  },
  {
   "cell_type": "code",
   "execution_count": null,
   "id": "5af07130",
   "metadata": {},
   "outputs": [],
   "source": [
    "loaded_wheel_radius = 230e-3 #m\n",
    "upright_vertical_spacing = 250e-3 #m\n",
    "minimum_lca_centerline_distance = 150e-3 #m         This is the minimum distance from the LCA chassis pickup to the centerline in order to adhere to rules\n",
    "\n",
    "upright_pickup_offset = 50e-3 #m\n",
    "kpi = np.radians(5) #rads\n",
    "\n",
    "dynamic_camber = np.radians(8) #rads        This is a wild guess at camber to give maximum lateral acceleration\n",
    "\n",
    "\n"
   ]
  }
 ],
 "metadata": {
  "kernelspec": {
   "display_name": "Python 3",
   "language": "python",
   "name": "python3"
  },
  "language_info": {
   "codemirror_mode": {
    "name": "ipython",
    "version": 3
   },
   "file_extension": ".py",
   "mimetype": "text/x-python",
   "name": "python",
   "nbconvert_exporter": "python",
   "pygments_lexer": "ipython3",
   "version": "3.12.4"
  }
 },
 "nbformat": 4,
 "nbformat_minor": 5
}
